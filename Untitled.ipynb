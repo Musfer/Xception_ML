{
 "cells": [
  {
   "cell_type": "code",
   "execution_count": 1,
   "id": "a05454eb",
   "metadata": {},
   "outputs": [],
   "source": [
    "import os\n",
    "import shutil\n",
    "import pandas as pd\n",
    "\n",
    "# Load labels from CSV\n",
    "labels_df = pd.read_csv('trainLabels.csv')\n",
    "\n",
    "# Get unique labels\n",
    "unique_labels = labels_df['label'].unique()\n",
    "\n",
    "# Create label folders inside 'dataset' folder\n",
    "for label in unique_labels:\n",
    "    label_folder = os.path.join('dataset', label)\n",
    "    os.makedirs(label_folder, exist_ok=True)\n",
    "\n",
    "# Iterate through the rows of the DataFrame\n",
    "for index, row in labels_df.iterrows():\n",
    "    image_id = row['id']\n",
    "    label = row['label']\n",
    "\n",
    "    # Generate the source and destination paths for the image\n",
    "    source_path = os.path.join('train', str(image_id) + '.png')\n",
    "    destination_path = os.path.join('dataset', label, str(image_id) + '.png')\n",
    "\n",
    "    # Copy the image to the respective label folder\n",
    "    shutil.copy(source_path, destination_path)\n"
   ]
  },
  {
   "cell_type": "code",
   "execution_count": null,
   "id": "b35e431b",
   "metadata": {},
   "outputs": [],
   "source": []
  }
 ],
 "metadata": {
  "kernelspec": {
   "display_name": "keras",
   "language": "python",
   "name": "keras"
  },
  "language_info": {
   "codemirror_mode": {
    "name": "ipython",
    "version": 3
   },
   "file_extension": ".py",
   "mimetype": "text/x-python",
   "name": "python",
   "nbconvert_exporter": "python",
   "pygments_lexer": "ipython3",
   "version": "3.9.16"
  }
 },
 "nbformat": 4,
 "nbformat_minor": 5
}
